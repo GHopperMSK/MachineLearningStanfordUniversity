{
 "cells": [
  {
   "cell_type": "code",
   "execution_count": 11,
   "metadata": {},
   "outputs": [],
   "source": [
    "# import dependencies\n",
    "import numpy as np\n",
    "import pandas as pd\n",
    "import matplotlib.pyplot as plt\n",
    "import seaborn; seaborn.set_style(\"whitegrid\")"
   ]
  },
  {
   "cell_type": "markdown",
   "metadata": {},
   "source": [
    "Load dataset from the file and show top 5"
   ]
  },
  {
   "cell_type": "code",
   "execution_count": 12,
   "metadata": {
    "scrolled": false
   },
   "outputs": [
    {
     "name": "stdout",
     "output_type": "stream",
     "text": [
      "X:\n",
      " [6.1101 5.5277 8.5186 7.0032 5.8598] \n",
      "\n",
      "y:\n",
      " [17.592   9.1302 13.662  11.854   6.8233]\n"
     ]
    }
   ],
   "source": [
    "#headers = ['Population','Profit']\n",
    "#df = pd.read_csv(\"ex1data1.txt\", \",\", names=headers)\n",
    "#print (df.iloc[0:5])\n",
    "\n",
    "# reading the file and unpacking the values to X and y\n",
    "x, y = np.loadtxt(\"ex1data1.txt\", delimiter=',', usecols=(0, 1), unpack=True)\n",
    "\n",
    "print(\"X:\\n\", x[:5], \"\\n\")\n",
    "print(\"y:\\n\", y[:5])"
   ]
  },
  {
   "cell_type": "markdown",
   "metadata": {},
   "source": [
    "Build initial dataset plot"
   ]
  },
  {
   "cell_type": "code",
   "execution_count": 13,
   "metadata": {},
   "outputs": [
    {
     "data": {
      "image/png": "[encoded data removed]",
      "text/plain": [
       "<Figure size 432x288 with 1 Axes>"
      ]
     },
     "metadata": {},
     "output_type": "display_data"
    }
   ],
   "source": [
    "plt.scatter(x, y, marker='x', c='r', s=20)\n",
    "plt.xlabel(\"Population of City in 10,000s\")\n",
    "plt.ylabel(\"Profit in $10,000s\")\n",
    "plt.show()"
   ]
  },
  {
   "cell_type": "code",
   "execution_count": 14,
   "metadata": {},
   "outputs": [],
   "source": [
    "# Compute cost for linear regression\n",
    "def computeCost(x, y, theta):\n",
    "    sum = 0\n",
    "    for i in range(0, len(x)):\n",
    "        h = 0\n",
    "        for idx, t in enumerate(theta):\n",
    "            h += x[i][idx] * t\n",
    "        sum += pow(h - y[i], 2)\n",
    "    return sum / (2 * len(x))"
   ]
  },
  {
   "cell_type": "markdown",
   "metadata": {},
   "source": [
    "Prepare input matrix X"
   ]
  },
  {
   "cell_type": "code",
   "execution_count": 15,
   "metadata": {},
   "outputs": [],
   "source": [
    "X = np.ones((len(x), 2))\n",
    "X[:,1] = x"
   ]
  },
  {
   "cell_type": "markdown",
   "metadata": {},
   "source": [
    "Check computeCost function. We should get \n",
    "\n",
    "*32.07* when *theta = [0, 0]*\n",
    "\n",
    "*54.24* when *theta = [-1, 2]*"
   ]
  },
  {
   "cell_type": "code",
   "execution_count": 16,
   "metadata": {},
   "outputs": [
    {
     "name": "stdout",
     "output_type": "stream",
     "text": [
      "32.072733877455654 54.24245508201238\n"
     ]
    }
   ],
   "source": [
    "r1 = computeCost(X, y, [0,0])\n",
    "r2 = computeCost(X, y, [-1,2])\n",
    "print(r1, r2)"
   ]
  },
  {
   "cell_type": "code",
   "execution_count": 17,
   "metadata": {},
   "outputs": [],
   "source": [
    "# gradient descent calculation\n",
    "def gradientDescent(X, y, theta, alpha, iterations):\n",
    "    thetaCur = theta\n",
    "    cost = np.zeros(iterations)\n",
    "    thetaHist = np.zeros(iterations)\n",
    "    \n",
    "    for iter in range(0, iterations):\n",
    "        cost[iter] = computeCost(X, y, thetaCur)\n",
    "        sum = [0] * len(theta)\n",
    "        for i in range(0, len(X)):\n",
    "            h = 0\n",
    "            for idx, t in enumerate(thetaCur):\n",
    "                h += X[i][idx] * t\n",
    "            for idx, t in enumerate(thetaCur):\n",
    "                sum[idx] += (h - y[i]) * X[i][idx]\n",
    "\n",
    "        for idx, t in enumerate(thetaCur):\n",
    "            thetaCur[idx] = thetaCur[idx] - (alpha/len(X)) * sum[idx];\n",
    "            \n",
    "    return thetaCur, thetaHist, cost"
   ]
  },
  {
   "cell_type": "markdown",
   "metadata": {},
   "source": [
    "Check gradientDescent function. We expect to get theta *[-3.63, 1.16]* after *1500* iterations and alpha equal to *0.01*"
   ]
  },
  {
   "cell_type": "code",
   "execution_count": 18,
   "metadata": {},
   "outputs": [
    {
     "name": "stdout",
     "output_type": "stream",
     "text": [
      "[-3.63029143940436, 1.166362350335582]\n"
     ]
    }
   ],
   "source": [
    "iterations = 1500\n",
    "gradient, thetaHist, cost = gradientDescent(X, y, [0, 0], 0.01, iterations)\n",
    "print(gradient)"
   ]
  },
  {
   "cell_type": "code",
   "execution_count": 19,
   "metadata": {},
   "outputs": [],
   "source": [
    "# Hypothesis function\n",
    "def hypothesis(X, theta):\n",
    "    h = [0] * len(X)\n",
    "    for i in range(0, len(X)):\n",
    "        hTmp = 0.0\n",
    "        for idx, t in enumerate(theta):\n",
    "            hTmp += t * X[i][idx]\n",
    "        h[i] = hTmp\n",
    "    return h"
   ]
  },
  {
   "cell_type": "markdown",
   "metadata": {},
   "source": [
    "Display hypothesis plot"
   ]
  },
  {
   "cell_type": "code",
   "execution_count": 20,
   "metadata": {},
   "outputs": [
    {
     "ename": "NameError",
     "evalue": "name 'df' is not defined",
     "output_type": "error",
     "traceback": [
      "\u001b[0;31m---------------------------------------------------------------------------\u001b[0m",
      "\u001b[0;31mNameError\u001b[0m                                 Traceback (most recent call last)",
      "\u001b[0;32m<ipython-input-20-3f769514fc01>\u001b[0m in \u001b[0;36m<module>\u001b[0;34m\u001b[0m\n\u001b[0;32m----> 1\u001b[0;31m \u001b[0mplt\u001b[0m\u001b[0;34m.\u001b[0m\u001b[0mscatter\u001b[0m\u001b[0;34m(\u001b[0m\u001b[0mdf\u001b[0m\u001b[0;34m[\u001b[0m\u001b[0;34m'Population'\u001b[0m\u001b[0;34m]\u001b[0m\u001b[0;34m,\u001b[0m\u001b[0mdf\u001b[0m\u001b[0;34m[\u001b[0m\u001b[0;34m'Profit'\u001b[0m\u001b[0;34m]\u001b[0m\u001b[0;34m)\u001b[0m\u001b[0;34m\u001b[0m\u001b[0;34m\u001b[0m\u001b[0m\n\u001b[0m\u001b[1;32m      2\u001b[0m \u001b[0mplt\u001b[0m\u001b[0;34m.\u001b[0m\u001b[0mxlabel\u001b[0m\u001b[0;34m(\u001b[0m\u001b[0;34m\"Population\"\u001b[0m\u001b[0;34m)\u001b[0m\u001b[0;34m\u001b[0m\u001b[0;34m\u001b[0m\u001b[0m\n\u001b[1;32m      3\u001b[0m \u001b[0mplt\u001b[0m\u001b[0;34m.\u001b[0m\u001b[0mylabel\u001b[0m\u001b[0;34m(\u001b[0m\u001b[0;34m\"Profit\"\u001b[0m\u001b[0;34m)\u001b[0m\u001b[0;34m\u001b[0m\u001b[0;34m\u001b[0m\u001b[0m\n\u001b[1;32m      4\u001b[0m \u001b[0;34m\u001b[0m\u001b[0m\n\u001b[1;32m      5\u001b[0m \u001b[0myHypothetical\u001b[0m \u001b[0;34m=\u001b[0m \u001b[0mhypothesis\u001b[0m\u001b[0;34m(\u001b[0m\u001b[0mX\u001b[0m\u001b[0;34m,\u001b[0m \u001b[0mtheta\u001b[0m\u001b[0;34m)\u001b[0m\u001b[0;34m\u001b[0m\u001b[0;34m\u001b[0m\u001b[0m\n",
      "\u001b[0;31mNameError\u001b[0m: name 'df' is not defined"
     ]
    }
   ],
   "source": [
    "plt.scatter(df['Population'],df['Profit'])\n",
    "plt.xlabel(\"Population\")\n",
    "plt.ylabel(\"Profit\")\n",
    "\n",
    "yHypothetical = hypothesis(X, theta)\n",
    "\n",
    "plt.plot(X[:,1], yHypothetical, color=\"red\")\n",
    "plt.show()"
   ]
  },
  {
   "cell_type": "markdown",
   "metadata": {},
   "source": [
    "Investigate Cost function"
   ]
  },
  {
   "cell_type": "code",
   "execution_count": 21,
   "metadata": {},
   "outputs": [
    {
     "data": {
      "image/png": "[encoded data removed]",
      "text/plain": [
       "<Figure size 432x288 with 1 Axes>"
      ]
     },
     "metadata": {},
     "output_type": "display_data"
    },
    {
     "data": {
      "image/png": "[encoded data removed]",
      "text/plain": [
       "<Figure size 432x288 with 1 Axes>"
      ]
     },
     "metadata": {},
     "output_type": "display_data"
    },
    {
     "data": {
      "image/png": "[encoded data removed]",
      "text/plain": [
       "<Figure size 432x288 with 1 Axes>"
      ]
     },
     "metadata": {},
     "output_type": "display_data"
    }
   ],
   "source": [
    "plt.plot(np.arange(iterations), cost)\n",
    "#plt.set_xlabel(\"Iterations\")\n",
    "#plt.set_ylabel(r\"Cost function - $J(\\theta)$\");\n",
    "plt.show()\n",
    "\n",
    "a = []\n",
    "b = []\n",
    "\n",
    "for i in np.arange(-5, 1, 0.2):\n",
    "    a.append(i)\n",
    "    b.append(computeCost(X, y, [i, 1]))\n",
    "\n",
    "plt.scatter(a, b, s=10, c='b', marker=\"s\", label='theta0')\n",
    "plt.show()\n",
    "\n",
    "a = []\n",
    "b = []\n",
    "\n",
    "for i in np.arange(-1, 2, 0.2):\n",
    "    a.append(i)\n",
    "    b.append(computeCost(X, y, [1, i]))\n",
    "\n",
    "plt.scatter(a, b, s=10, c='r', marker=\"o\", label='theta1')\n",
    "plt.show()"
   ]
  },
  {
   "cell_type": "markdown",
   "metadata": {},
   "source": [
    "As we can see, we had computed theta with some error. There are two ways - increase iterations amount or decrease alpha value."
   ]
  },
  {
   "cell_type": "markdown",
   "metadata": {},
   "source": [
    "Second dataset"
   ]
  },
  {
   "cell_type": "code",
   "execution_count": 22,
   "metadata": {},
   "outputs": [
    {
     "name": "stdout",
     "output_type": "stream",
     "text": [
      "x:\n",
      " [[2.104e+03 3.000e+00]\n",
      " [1.600e+03 3.000e+00]\n",
      " [2.400e+03 3.000e+00]\n",
      " [1.416e+03 2.000e+00]\n",
      " [3.000e+03 4.000e+00]] \n",
      "\n",
      "y:\n",
      " [399900. 329900. 369000. 232000. 539900.]\n"
     ]
    }
   ],
   "source": [
    "data = np.loadtxt(\"ex1data2.txt\", delimiter=',')\n",
    "x, y = data[:,:2], data[:,2]\n",
    "\n",
    "print(\"x:\\n\", x[:5], \"\\n\")\n",
    "print(\"y:\\n\", y[:5])"
   ]
  },
  {
   "cell_type": "markdown",
   "metadata": {},
   "source": [
    "Feature normalization"
   ]
  },
  {
   "cell_type": "code",
   "execution_count": 23,
   "metadata": {},
   "outputs": [],
   "source": [
    "def featureNormalize(X):\n",
    "    rows, columns = X.shape\n",
    "    mean = [0] * 3\n",
    "    min =  [np.nan] * columns\n",
    "    max =  [np.nan] * columns\n",
    "    sigma = [0] * columns\n",
    "    for i in range(0, rows):\n",
    "         for ii in range(0, columns):\n",
    "            mean[ii] += X[i,ii]\n",
    "            if (np.isnan(min[ii]) or X[i,ii] < min[ii]):\n",
    "                min[ii] = X[i,ii]\n",
    "            if (np.isnan(max[ii]) or X[i,ii] > max[ii]):\n",
    "                max[ii] = X[i,ii]\n",
    "                \n",
    "    for i in range(0, columns):\n",
    "        mean[i] = mean[i] / rows\n",
    "        sigma[i] = max[i] - min[i]\n",
    "\n",
    "    result = X.copy()\n",
    "    for i in range(0, rows):\n",
    "        for ii in range(0, columns):\n",
    "            if (sigma[ii] == 0):\n",
    "                result[i, ii] = np.nan\n",
    "            else:\n",
    "                result[i, ii] = (result[i, ii] - mean[ii]) / sigma[ii]\n",
    "    return result, mean, sigma\n",
    "    #return (X - X.mean()) / (X.max() - X.min())"
   ]
  },
  {
   "cell_type": "code",
   "execution_count": 24,
   "metadata": {},
   "outputs": [
    {
     "name": "stdout",
     "output_type": "stream",
     "text": [
      "[[ 1.          0.02849397 -0.04255319]\n",
      " [ 1.         -0.11050217 -0.04255319]\n",
      " [ 1.          0.11012663 -0.04255319]\n",
      " [ 1.         -0.16124679 -0.29255319]\n",
      " [ 1.          0.27559822  0.20744681]]\n"
     ]
    }
   ],
   "source": [
    "normX, mean, sigma = featureNormalize(x)\n",
    "\n",
    "X = np.hstack((np.ones((x.shape[0],1)), normX))\n",
    "\n",
    "print(X[:5])"
   ]
  },
  {
   "cell_type": "code",
   "execution_count": 40,
   "metadata": {},
   "outputs": [
    {
     "name": "stdout",
     "output_type": "stream",
     "text": [
      "[340412.65957446786, 490097.7967569283, -16120.5586845665]\n"
     ]
    }
   ],
   "source": [
    "gradient, thetaHist, cost = gradientDescent(X, y, [0, 0, 0], 0.1, 1500)\n",
    "print(gradient)"
   ]
  },
  {
   "cell_type": "code",
   "execution_count": 27,
   "metadata": {},
   "outputs": [
    {
     "name": "stdout",
     "output_type": "stream",
     "text": [
      "807399701.3406061\n"
     ]
    }
   ],
   "source": [
    "price = 1 * gradient[0] + \\\n",
    "    ((1650 - mean[1])/(X[:,1].max() - X[:,1].min())) * gradient[1] + \\\n",
    "    ((3 - mean[2])/(X[:,2].max() - X[:,2].min())) * gradient[2]\n",
    "print(price)"
   ]
  },
  {
   "cell_type": "code",
   "execution_count": 42,
   "metadata": {},
   "outputs": [
    {
     "data": {
      "image/png": "[encoded data removed]",
      "text/plain": [
       "<Figure size 432x288 with 1 Axes>"
      ]
     },
     "metadata": {},
     "output_type": "display_data"
    }
   ],
   "source": [
    "learningRates = [0.3, 0.1, 0.03, 0.01, 0.003, 0.001]\n",
    "\n",
    "plt.xlabel(\"Iterations\")\n",
    "plt.ylabel(r\"Cost function - $J(\\theta)$\")\n",
    "\n",
    "for alpha in learningRates:\n",
    "    gradient, thetaHist, cost = gradientDescent(X, y, [0, 0, 0], alpha, 50)\n",
    "    plt.plot(np.arange(50), cost)\n",
    "    \n",
    "plt.legend(learningRates)\n",
    "plt.show()"
   ]
  }
 ],
 "metadata": {
  "kernelspec": {
   "display_name": "Python 3",
   "language": "python",
   "name": "python3"
  },
  "language_info": {
   "codemirror_mode": {
    "name": "ipython",
    "version": 3
   },
   "file_extension": ".py",
   "mimetype": "text/x-python",
   "name": "python",
   "nbconvert_exporter": "python",
   "pygments_lexer": "ipython3",
   "version": "3.7.3"
  }
 },
 "nbformat": 4,
 "nbformat_minor": 2
}
