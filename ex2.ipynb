{
 "cells": [
  {
   "cell_type": "code",
   "execution_count": 254,
   "metadata": {},
   "outputs": [],
   "source": [
    "# import dependencies\n",
    "import numpy as np\n",
    "import pandas as pd\n",
    "import matplotlib.pyplot as plt\n",
    "import seaborn; seaborn.set_style(\"whitegrid\")\n",
    "from math import exp, log"
   ]
  },
  {
   "cell_type": "code",
   "execution_count": 255,
   "metadata": {},
   "outputs": [
    {
     "name": "stdout",
     "output_type": "stream",
     "text": [
      "x:\n",
      " [[34.62365962 78.02469282]\n",
      " [30.28671077 43.89499752]\n",
      " [35.84740877 72.90219803]\n",
      " [60.18259939 86.3085521 ]\n",
      " [79.03273605 75.34437644]] \n",
      "\n",
      "y:\n",
      " [0. 0. 0. 1. 1.]\n"
     ]
    }
   ],
   "source": [
    "data = np.loadtxt(\"ex2data1.txt\", delimiter=',')\n",
    "x, y = data[:,:2], data[:,2]\n",
    "\n",
    "print(\"x:\\n\", x[:5], \"\\n\")\n",
    "print(\"y:\\n\", y[:5])"
   ]
  },
  {
   "cell_type": "code",
   "execution_count": 256,
   "metadata": {},
   "outputs": [],
   "source": [
    "# Creating plotData method to display the figure where the axes are the two exam scores.\n",
    "def plotData(x, y, xlabel, ylabel, labelPos, labelNeg):\n",
    "    pos = y == 1\n",
    "    neg = y == 0\n",
    "    \n",
    "    # Scatter plotting the data, filtering them according the pos/neg values:\n",
    "    plt.scatter(x[pos, 0], x[pos, 1], s=30, c='darkblue', marker='+', label=labelPos)\n",
    "    plt.scatter(x[neg, 0], x[neg, 1], s=30, c='yellow', marker='o', edgecolors='b', label=labelNeg)\n",
    "\n",
    "    # Labels and limits:\n",
    "    plt.xlabel(xlabel)\n",
    "    plt.ylabel(ylabel)\n",
    "    plt.xlim(x[:, 0].min(), x[:, 0].max())\n",
    "    plt.ylim(x[:, 1].min(), x[:, 1].max())\n",
    "\n",
    "    # Legend:\n",
    "    pst = plt.legend(loc='upper right', frameon=True)\n",
    "    pst.get_frame().set_edgecolor('k');"
   ]
  },
  {
   "cell_type": "code",
   "execution_count": 257,
   "metadata": {},
   "outputs": [
    {
     "data": {
      "image/png": "[encoded data removed]",
      "text/plain": [
       "<Figure size 432x288 with 1 Axes>"
      ]
     },
     "metadata": {},
     "output_type": "display_data"
    }
   ],
   "source": [
    "plotData(x, y, 'Exam 1 score', 'Exam 2 score', 'Admitted', 'Not Admitted')"
   ]
  },
  {
   "cell_type": "code",
   "execution_count": 471,
   "metadata": {},
   "outputs": [],
   "source": [
    "def sigmoid(z):\n",
    "    if not (isinstance(z, int)) and (z.shape):\n",
    "        rows = z.shape[0]\n",
    "        \n",
    "        g = [0] * rows\n",
    "        for r in range(0, rows):\n",
    "            columns = z[r].size\n",
    "            if (columns > 1):\n",
    "                g[r] = [0] * columns\n",
    "                for c in range(0, columns):\n",
    "                    g[r][c] = sigmoid(z[r][c])\n",
    "            else:\n",
    "                g[r] = sigmoid(z[r])\n",
    "    else:\n",
    "        g = 1 / (1 + exp(-z))\n",
    "    return np.array(g)\n",
    "\n",
    "from scipy.special import expit"
   ]
  },
  {
   "cell_type": "code",
   "execution_count": 469,
   "metadata": {},
   "outputs": [],
   "source": [
    "def costFunction(theta, X, y):\n",
    "    J = 0\n",
    "    m = len(X)\n",
    "    #grad = [0] * len(theta)\n",
    "    sum = 0.0\n",
    "    \n",
    "    for r in range(0, m):\n",
    "        h = 0.0\n",
    "        for p in range(0, len(X[r])):\n",
    "            h += theta[p] * X[r][p]\n",
    "        h = sigmoid(h)\n",
    "        if (h == 0):\n",
    "            h = 0.1\n",
    "        elif (h == 1):\n",
    "            h = 0.9\n",
    "        \n",
    "        #for p in range(0, len(X[m])):\n",
    "        #    grad[p] += (h - y[m]) * X[m][p]\n",
    "        sum += -1.0 * y[r] * log(h) - (1.0 - y[r]) * log(1.0 - h)\n",
    "    J = sum / m\n",
    "\n",
    "    return J"
   ]
  },
  {
   "cell_type": "code",
   "execution_count": 400,
   "metadata": {},
   "outputs": [],
   "source": [
    "def gradientFunc(theta, X, y):\n",
    "    m = len(X)\n",
    "    grad = [0] * len(theta)\n",
    "    \n",
    "    for m in range(0, m):\n",
    "        h = 0\n",
    "        for p in range(0, len(X[m])):\n",
    "            h += theta[p] * X[m][p]\n",
    "        h = sigmoid(h)\n",
    "        for p in range(0, len(X[m])):\n",
    "            grad[p] += (h - y[m]) * X[m][p]\n",
    "    for p in range(0, len(X[m])):\n",
    "        grad[p] = grad[p] / m \n",
    "    return np.array(grad)"
   ]
  },
  {
   "cell_type": "code",
   "execution_count": 467,
   "metadata": {},
   "outputs": [
    {
     "name": "stdout",
     "output_type": "stream",
     "text": [
      "Cost: 0.693\n",
      "Gradient: [ -0.1010101  -12.13052181 -11.37660829]\n"
     ]
    }
   ],
   "source": [
    "X = np.ones((len(x), 3))\n",
    "X[:, 1:3] = x\n",
    "\n",
    "J = costFunction([0.0, 0.0, 0.0], X, y)\n",
    "print(\"Cost: %0.3f\"%(J))\n",
    "grad = gradientFunc([0, 0, 0], X, y)\n",
    "print(\"Gradient: {0}\".format(grad))"
   ]
  },
  {
   "cell_type": "code",
   "execution_count": 472,
   "metadata": {},
   "outputs": [
    {
     "name": "stdout",
     "output_type": "stream",
     "text": [
      "Optimization terminated successfully.\n",
      "         Current function value: 0.203498\n",
      "         Iterations: 20\n",
      "         Function evaluations: 28\n",
      "         Gradient evaluations: 28\n"
     ]
    },
    {
     "data": {
      "text/plain": [
       "      fun: 0.20349770158948993\n",
       " hess_inv: array([[ 3.20166983e+03, -2.54925344e+01, -2.61414420e+01],\n",
       "       [-2.54925344e+01,  2.16810801e-01,  1.95662363e-01],\n",
       "       [-2.61414420e+01,  1.95662363e-01,  2.28530253e-01]])\n",
       "      jac: array([3.37435484e-08, 3.35843623e-06, 9.40140688e-07])\n",
       "  message: 'Optimization terminated successfully.'\n",
       "     nfev: 28\n",
       "      nit: 20\n",
       "     njev: 28\n",
       "   status: 0\n",
       "  success: True\n",
       "        x: array([-25.16133599,   0.20623177,   0.20147159])"
      ]
     },
     "execution_count": 472,
     "metadata": {},
     "output_type": "execute_result"
    }
   ],
   "source": [
    "# Importing minimize from scipy:\n",
    "from scipy.optimize import minimize\n",
    "\n",
    "# Finding the best parameters for θ, using the methods we created earlier:\n",
    "# Expecting to see the cost around 0.203 per the assignment.\n",
    "result = minimize(costFunction, [0, 0, 0], args=(X, y), method='BFGS', jac=gradientFunc, options={'maxiter' : 400, 'disp': True})\n",
    "result"
   ]
  },
  {
   "cell_type": "code",
   "execution_count": 490,
   "metadata": {},
   "outputs": [],
   "source": [
    "def hypothesis(X, theta):\n",
    "    h = [0] * len(X)\n",
    "    for i in range(0, len(X)):\n",
    "        hTmp = 0.0\n",
    "        for idx, t in enumerate(theta):\n",
    "            hTmp += t * X[i][idx]\n",
    "        h[i] = sigmoid(hTmp)\n",
    "    return h"
   ]
  },
  {
   "cell_type": "code",
   "execution_count": 498,
   "metadata": {},
   "outputs": [
    {
     "name": "stdout",
     "output_type": "stream",
     "text": [
      "For a student with scores 45 and 85, we predict an admission probability of 0.776291\n"
     ]
    },
    {
     "data": {
      "image/png": "[encoded data removed]",
      "text/plain": [
       "<Figure size 432x288 with 1 Axes>"
      ]
     },
     "metadata": {},
     "output_type": "display_data"
    }
   ],
   "source": [
    "theta = result['x']\n",
    "\n",
    "plotData(x, y, 'Exam 1 score', 'Exam 2 score', 'Admitted', 'Not Admitted')\n",
    "plot_x = np.array([np.min(X[:,2])-2,  max(X[:,2])+2]);\n",
    "plot_y = (-1 / theta[2]) * (theta[1] * plot_x + theta[0])\n",
    "plt.plot(plot_x, plot_y, c='b')\n",
    "\n",
    "# Predict probability for a student with score 45 on exam 1  and score 85 on exam 2 \n",
    "prob = hypothesis(np.array([[1, 45, 85]]), theta)\n",
    "print(\"For a student with scores 45 and 85, we predict an admission probability of %f\"%(prob[0]))\n",
    "\n",
    "plt.scatter(45, 85, s=30, c='r', marker='x', label='Ex.1 - 45, Ex.2 - 85')\n",
    "\n",
    "plt.show()"
   ]
  },
  {
   "cell_type": "code",
   "execution_count": 531,
   "metadata": {},
   "outputs": [],
   "source": [
    "def checkAccuracy(y, h):\n",
    "    a = 0\n",
    "    for i in range(0, len(y)):\n",
    "        if (h[i] > 0.5):\n",
    "            c = 1.0\n",
    "        else:\n",
    "            c = 0.0\n",
    "        if (y[i] == c):\n",
    "            a = a + 1\n",
    "    return a*100/len(y)"
   ]
  },
  {
   "cell_type": "code",
   "execution_count": 536,
   "metadata": {},
   "outputs": [
    {
     "name": "stdout",
     "output_type": "stream",
     "text": [
      "Train Accuracy: 89%\n"
     ]
    }
   ],
   "source": [
    "print('Train Accuracy: %0.f%%'%checkAccuracy(y, hypothesis(X, theta)));"
   ]
  },
  {
   "cell_type": "code",
   "execution_count": null,
   "metadata": {},
   "outputs": [],
   "source": []
  }
 ],
 "metadata": {
  "kernelspec": {
   "display_name": "Python 3",
   "language": "python",
   "name": "python3"
  },
  "language_info": {
   "codemirror_mode": {
    "name": "ipython",
    "version": 3
   },
   "file_extension": ".py",
   "mimetype": "text/x-python",
   "name": "python",
   "nbconvert_exporter": "python",
   "pygments_lexer": "ipython3",
   "version": "3.7.3"
  }
 },
 "nbformat": 4,
 "nbformat_minor": 2
}
