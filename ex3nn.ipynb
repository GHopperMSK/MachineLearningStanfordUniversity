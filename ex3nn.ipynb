{
 "cells": [
  {
   "cell_type": "code",
   "execution_count": 115,
   "metadata": {},
   "outputs": [],
   "source": [
    "import numpy as np\n",
    "import scipy.io\n",
    "import matplotlib.pyplot as plt\n",
    "%matplotlib inline"
   ]
  },
  {
   "cell_type": "code",
   "execution_count": 146,
   "metadata": {},
   "outputs": [
    {
     "data": {
      "text/plain": [
       "(5000, 400)"
      ]
     },
     "execution_count": 146,
     "metadata": {},
     "output_type": "execute_result"
    }
   ],
   "source": [
    "ex3data1 = scipy.io.loadmat(\"./ex3data1.mat\")\n",
    "initX = ex3data1['X']\n",
    "y = ex3data1['y'][:,0]\n",
    "#y[y==10] = 0\n",
    "m, n = initX.shape\n",
    "m, n"
   ]
  },
  {
   "cell_type": "code",
   "execution_count": 143,
   "metadata": {},
   "outputs": [
    {
     "name": "stdout",
     "output_type": "stream",
     "text": [
      "(25, 401)\n",
      "(10, 26)\n"
     ]
    }
   ],
   "source": [
    "ex3weights = scipy.io.loadmat(\"./ex3weights.mat\")\n",
    "Theta1 = ex3weights[\"Theta1\"] # Theta1 has size 25 x 401\n",
    "Theta2 = ex3weights[\"Theta2\"] # Theta2 has size 10 x 26\n",
    "print(Theta1.shape)\n",
    "print(Theta2.shape)"
   ]
  },
  {
   "cell_type": "code",
   "execution_count": 144,
   "metadata": {},
   "outputs": [],
   "source": [
    "def sigmoid(z):\n",
    "    return 1 / (1 + np.exp(-z))\n",
    "\n",
    "def predict(Theta1, Theta2, X):\n",
    "    m = X.shape[0]\n",
    "    a1 = np.hstack((np.ones((m, 1)), X))\n",
    "    z2 = a1.dot(Theta1.T)\n",
    "    \n",
    "    a2 = np.hstack((np.ones((z2.shape[0], 1)), sigmoid(z2)))\n",
    "    z3 = a2.dot(Theta2.T)\n",
    "                   \n",
    "    a3 = sigmoid(z3)               \n",
    "    \n",
    "    return 1 + np.argmax(a3, axis=1)"
   ]
  },
  {
   "cell_type": "code",
   "execution_count": 148,
   "metadata": {},
   "outputs": [
    {
     "name": "stdout",
     "output_type": "stream",
     "text": [
      "accuracy = 97.52%\n"
     ]
    }
   ],
   "source": [
    "p = predict(Theta1, Theta2, initX)\n",
    "\n",
    "accuracy = 100 * np.mean(p == y)\n",
    "print('accuracy = %0.2f%%' % accuracy)"
   ]
  },
  {
   "cell_type": "code",
   "execution_count": null,
   "metadata": {},
   "outputs": [],
   "source": []
  }
 ],
 "metadata": {
  "kernelspec": {
   "display_name": "Python 3",
   "language": "python",
   "name": "python3"
  },
  "language_info": {
   "codemirror_mode": {
    "name": "ipython",
    "version": 3
   },
   "file_extension": ".py",
   "mimetype": "text/x-python",
   "name": "python",
   "nbconvert_exporter": "python",
   "pygments_lexer": "ipython3",
   "version": "3.7.3"
  }
 },
 "nbformat": 4,
 "nbformat_minor": 2
}
